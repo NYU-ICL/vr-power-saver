{
 "cells": [
  {
   "cell_type": "code",
   "execution_count": null,
   "id": "00aef606-cdcf-4cd7-9c22-4ee2bc5c6d00",
   "metadata": {},
   "outputs": [],
   "source": [
    "import matplotlib.pyplot as plt\n",
    "from matplotlib.widgets import Slider\n",
    "%matplotlib widget\n",
    "import numpy as np\n",
    "\n",
    "from color_model.base_color_model import BaseColorModel\n",
    "from util.colorspace import XYZ2RGB, LMS2XYZ, iDKL2LMS, RGB2sRGB, sRGB2RGB\n",
    "iDKL2RGB = XYZ2RGB @ LMS2XYZ @ iDKL2LMS\n",
    "RGB2iDKL = np.linalg.inv(iDKL2RGB)"
   ]
  },
  {
   "cell_type": "code",
   "execution_count": null,
   "id": "b9f161c5-816b-44d8-b349-8bbb3fe2f62e",
   "metadata": {},
   "outputs": [],
   "source": [
    "model = BaseColorModel()\n",
    "model.load(\"io/color_model/model.pth\")\n",
    "\n",
    "def get_ellipse_mesh(srgb, ecc, resolution):\n",
    "    wh_idkl = model.compute_ellipses(srgb[None, :], ecc[None, :])\n",
    "\n",
    "    def ellipse_cov(w, h):\n",
    "        # We fake an ellipse as an ellipsoid with epsilon depth\n",
    "        return np.array([\n",
    "            [1 / w**2,        0,             0],\n",
    "            [0,        1 / h**2,             0],\n",
    "            [0,               0, 1 / (1e-5)**2],\n",
    "        ])\n",
    "\n",
    "    def _get_ellipsoid_mesh(cov, centre, nu, nv):\n",
    "        u, v = np.linspace(0, 1, nu), np.linspace(0, np.pi * 2, nv)\n",
    "        x = np.outer(u, np.cos(v))\n",
    "        y = np.outer(u, np.sin(v))\n",
    "        z = np.outer(np.zeros_like(u), np.zeros_like(v))\n",
    "        xyz = np.stack([x, y, z], 0).reshape(3, -1)\n",
    "\n",
    "        eigval, eigvec = np.linalg.eigh(cov)\n",
    "        # Ensure orientation of last eigvec is on same semi-sphere for all eigvecs\n",
    "        if eigvec[:, 2] @ np.array([1, 0, 0]) < 0:\n",
    "            eigvec[:, 2] = -eigvec[:, 2]\n",
    "        # Ensure right-handed ellipse principle axes\n",
    "        if np.cross(eigvec[:, 0], eigvec[:, 1]) @ eigvec[:, 2] > 0:\n",
    "            a = 1 / np.sqrt(eigval[0]) * eigvec[:, 0]\n",
    "            b = 1 / np.sqrt(eigval[1]) * eigvec[:, 1]\n",
    "        else:\n",
    "            a = 1 / np.sqrt(eigval[1]) * eigvec[:, 1]\n",
    "            b = 1 / np.sqrt(eigval[0]) * eigvec[:, 0]\n",
    "        c = 1 / np.sqrt(eigval[2]) * eigvec[:, 2]\n",
    "        basis = np.stack([a, b, c], axis=-1)\n",
    "        ellipse = basis @ xyz + centre[:, None]\n",
    "        return ellipse.reshape(3, *x.shape)\n",
    "\n",
    "    cov_idkl = ellipse_cov(wh_idkl[0, 0], wh_idkl[0, 1])\n",
    "    \n",
    "    cov_rgb = RGB2iDKL.T @ cov_idkl @ RGB2iDKL\n",
    "    mesh = _get_ellipsoid_mesh(cov_rgb, sRGB2RGB(srgb), resolution, resolution)\n",
    "    return mesh\n",
    "\n",
    "def gen_figure():\n",
    "    fig = plt.figure()\n",
    "    ax = plt.axes(projection=\"3d\")\n",
    "    ax.set_xlabel(\"Red\")\n",
    "    ax.set_ylabel(\"Green\")\n",
    "    ax.set_zlabel(\"Blue\")\n",
    "    ax.set_xlim(0, 1)\n",
    "    ax.set_ylim(0, 1)\n",
    "    ax.set_zlim(0, 1)\n",
    "    ax.view_init(30, 60)\n",
    "        \n",
    "    return fig, ax"
   ]
  },
  {
   "cell_type": "code",
   "execution_count": null,
   "id": "c2ff2327-0973-44c2-99a5-451fb3d8307b",
   "metadata": {},
   "outputs": [],
   "source": [
    "rgb = np.array([0.5, 0.5, 0.5])  # linear sRGB\n",
    "ecc = np.array([10.])  # in degrees\n",
    "resolution = 60  # mesh granularity\n",
    "\n",
    "_, ax = gen_figure()\n",
    "srgb = RGB2sRGB(rgb)\n",
    "mesh = get_ellipse_mesh(srgb, ecc, resolution)\n",
    "ax.plot_surface(*mesh, rstride=10, cstride=10, color=srgb, alpha=0.75)"
   ]
  },
  {
   "cell_type": "code",
   "execution_count": null,
   "id": "00dcec89-5163-4cd8-9b22-1303c3a57831",
   "metadata": {},
   "outputs": [],
   "source": []
  }
 ],
 "metadata": {
  "kernelspec": {
   "display_name": "Python 3 (ipykernel)",
   "language": "python",
   "name": "python3"
  },
  "language_info": {
   "codemirror_mode": {
    "name": "ipython",
    "version": 3
   },
   "file_extension": ".py",
   "mimetype": "text/x-python",
   "name": "python",
   "nbconvert_exporter": "python",
   "pygments_lexer": "ipython3",
   "version": "3.9.12"
  }
 },
 "nbformat": 4,
 "nbformat_minor": 5
}
