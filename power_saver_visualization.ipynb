{
 "cells": [
  {
   "cell_type": "code",
   "execution_count": 13,
   "id": "00aef606-cdcf-4cd7-9c22-4ee2bc5c6d00",
   "metadata": {},
   "outputs": [
    {
     "ename": "ImportError",
     "evalue": "cannot import name 'DKL2LMS' from 'util.colorspace' (/home/budmonde/dev/nyu/vr-power-saver/util/colorspace.py)",
     "output_type": "error",
     "traceback": [
      "\u001b[0;31m---------------------------------------------------------------------------\u001b[0m",
      "\u001b[0;31mImportError\u001b[0m                               Traceback (most recent call last)",
      "Input \u001b[0;32mIn [13]\u001b[0m, in \u001b[0;36m<cell line: 4>\u001b[0;34m()\u001b[0m\n\u001b[1;32m      1\u001b[0m \u001b[38;5;28;01mimport\u001b[39;00m \u001b[38;5;21;01mnumpy\u001b[39;00m \u001b[38;5;28;01mas\u001b[39;00m \u001b[38;5;21;01mnp\u001b[39;00m\n\u001b[1;32m      3\u001b[0m \u001b[38;5;28;01mfrom\u001b[39;00m \u001b[38;5;21;01mcolor_model\u001b[39;00m\u001b[38;5;21;01m.\u001b[39;00m\u001b[38;5;21;01mbase_color_model\u001b[39;00m \u001b[38;5;28;01mimport\u001b[39;00m BaseColorModel\n\u001b[0;32m----> 4\u001b[0m \u001b[38;5;28;01mfrom\u001b[39;00m \u001b[38;5;21;01mutil\u001b[39;00m\u001b[38;5;21;01m.\u001b[39;00m\u001b[38;5;21;01mcolorspace\u001b[39;00m \u001b[38;5;28;01mimport\u001b[39;00m XYZ2RGB, LMS2XYZ, DKL2LMS\n\u001b[1;32m      5\u001b[0m DKL2RGB \u001b[38;5;241m=\u001b[39m XYZ2RGB \u001b[38;5;241m@\u001b[39m LMS2XYZ \u001b[38;5;241m@\u001b[39m DKL2LMS\n\u001b[1;32m      6\u001b[0m RGB2DKL \u001b[38;5;241m=\u001b[39m np\u001b[38;5;241m.\u001b[39mlinalg\u001b[38;5;241m.\u001b[39minv(DKL2RGB)\n",
      "\u001b[0;31mImportError\u001b[0m: cannot import name 'DKL2LMS' from 'util.colorspace' (/home/budmonde/dev/nyu/vr-power-saver/util/colorspace.py)"
     ]
    }
   ],
   "source": [
    "import numpy as np\n",
    "\n",
    "from color_model.base_color_model import BaseColorModel\n",
    "from util.colorspace import XYZ2RGB, LMS2XYZ, DKL2LMS\n",
    "DKL2RGB = XYZ2RGB @ LMS2XYZ @ DKL2LMS\n",
    "RGB2DKL = np.linalg.inv(DKL2RGB)"
   ]
  },
  {
   "cell_type": "code",
   "execution_count": 14,
   "id": "b9f161c5-816b-44d8-b349-8bbb3fe2f62e",
   "metadata": {},
   "outputs": [
    {
     "name": "stdout",
     "output_type": "stream",
     "text": [
      "[0. 0. 0.]\n"
     ]
    },
    {
     "ename": "NameError",
     "evalue": "name 'RGB2DKL' is not defined",
     "output_type": "error",
     "traceback": [
      "\u001b[0;31m---------------------------------------------------------------------------\u001b[0m",
      "\u001b[0;31mNameError\u001b[0m                                 Traceback (most recent call last)",
      "Input \u001b[0;32mIn [14]\u001b[0m, in \u001b[0;36m<cell line: 41>\u001b[0;34m()\u001b[0m\n\u001b[1;32m     38\u001b[0m     \u001b[38;5;28;01mreturn\u001b[39;00m ellipse\u001b[38;5;241m.\u001b[39mreshape(\u001b[38;5;241m3\u001b[39m, \u001b[38;5;241m*\u001b[39mx\u001b[38;5;241m.\u001b[39mshape)\n\u001b[1;32m     40\u001b[0m cov_idkl \u001b[38;5;241m=\u001b[39m ellipse_covariance(wh_idkl[\u001b[38;5;241m0\u001b[39m, \u001b[38;5;241m0\u001b[39m], wh_idkl[\u001b[38;5;241m0\u001b[39m, \u001b[38;5;241m1\u001b[39m])\n\u001b[0;32m---> 41\u001b[0m cov_rgb \u001b[38;5;241m=\u001b[39m \u001b[43mRGB2DKL\u001b[49m\u001b[38;5;241m.\u001b[39mT \u001b[38;5;241m@\u001b[39m cov_idkl \u001b[38;5;241m@\u001b[39m RGB2DKL\n\u001b[1;32m     42\u001b[0m mesh \u001b[38;5;241m=\u001b[39m get_ellipsoid_mesh(cov_rgb, rgb, resolution, resolution)\n",
      "\u001b[0;31mNameError\u001b[0m: name 'RGB2DKL' is not defined"
     ]
    }
   ],
   "source": [
    "model = BaseColorModel()\n",
    "#0.73535698\n",
    "rgb = np.array([0.5, 0.5, 0.5])\n",
    "ecc = np.array([10])\n",
    "resolution = 60\n",
    "\n",
    "wh_idkl = model.compute_ellipses(rgb[None, :], ecc[None, :])\n",
    "\n",
    "def ellipse_cov(w, h):\n",
    "    # We fake an ellipse as an ellipsoid with epsilon depth\n",
    "    return np.array([\n",
    "        [1 / w**2,        0,             0],\n",
    "        [0,        1 / h**2,             0],\n",
    "        [0,               0, 1 / (1e-5)**2],\n",
    "    ])\n",
    "\n",
    "def get_ellipsoid_mesh(cov, centre, nu, nv):\n",
    "    u, v = np.linspace(0, 1, nu), np.linspace(0, np.pi * 2, nv)\n",
    "    x = np.outer(u, np.cos(v))\n",
    "    y = np.outer(u, np.sin(v))\n",
    "    z = np.outer(np.zeros_like(u), np.zeros_like(v))\n",
    "    xyz = np.stack([x, y, z], 0).reshape(3, -1)\n",
    "    \n",
    "    eigval, eigvec = np.linalg.eigh(cov)\n",
    "    # Ensure orientation of last eigvec is on same semi-sphere for all eigvecs\n",
    "    if eigvec[:, 2] @ np.array([1, 0, 0]) < 0:\n",
    "        eigvec[:, 2] = -eigvec[:, 2]\n",
    "    # Ensure right-handed ellipse principle axes\n",
    "    if np.cross(eigvec[:, 0], eigvec[:, 1]) @ eigvec[:, 2] > 0:\n",
    "        a = 1 / np.sqrt(eigval[0]) * eigvec[:, 0]\n",
    "        b = 1 / np.sqrt(eigval[1]) * eigvec[:, 1]\n",
    "    else:\n",
    "        a = 1 / np.sqrt(eigval[1]) * eigvec[:, 1]\n",
    "        b = 1 / np.sqrt(eigval[0]) * eigvec[:, 0]\n",
    "    c = 1 / np.sqrt(eigval[2]) * eigvec[:, 2]\n",
    "    basis = np.stack([a, b, c])\n",
    "    ellipse = basis @ xyz + centre.T\n",
    "    return ellipse.reshape(3, *x.shape)\n",
    "        \n",
    "cov_idkl = ellipse_covariance(wh_idkl[0, 0], wh_idkl[0, 1])\n",
    "cov_rgb = RGB2DKL.T @ cov_idkl @ RGB2DKL\n",
    "mesh = get_ellipsoid_mesh(cov_rgb, rgb, resolution, resolution)"
   ]
  },
  {
   "cell_type": "code",
   "execution_count": null,
   "id": "c2ff2327-0973-44c2-99a5-451fb3d8307b",
   "metadata": {},
   "outputs": [],
   "source": []
  }
 ],
 "metadata": {
  "kernelspec": {
   "display_name": "Python 3 (ipykernel)",
   "language": "python",
   "name": "python3"
  },
  "language_info": {
   "codemirror_mode": {
    "name": "ipython",
    "version": 3
   },
   "file_extension": ".py",
   "mimetype": "text/x-python",
   "name": "python",
   "nbconvert_exporter": "python",
   "pygments_lexer": "ipython3",
   "version": "3.9.12"
  }
 },
 "nbformat": 4,
 "nbformat_minor": 5
}
